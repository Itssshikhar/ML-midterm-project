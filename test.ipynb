{
 "cells": [
  {
   "cell_type": "code",
   "execution_count": 1,
   "id": "bc3d702e-7642-4168-bf80-a593665e7e60",
   "metadata": {},
   "outputs": [],
   "source": [
    "import requests"
   ]
  },
  {
   "cell_type": "code",
   "execution_count": 2,
   "id": "0845c176-8207-4f6c-af3c-7a1b145035d6",
   "metadata": {},
   "outputs": [],
   "source": [
    "url = \"http://localhost:6969/model_predict\""
   ]
  },
  {
   "cell_type": "code",
   "execution_count": 3,
   "id": "15d3e6f6-6f80-485a-bea3-40561cb1da46",
   "metadata": {},
   "outputs": [],
   "source": [
    "stock = {\n",
    "    \"symbol\": \"AOS\",\n",
    "    \"name\": \"A.O. Smith Corp\",\n",
    "    \"sector\": \"Industrials\",\n",
    "    \"price_earnings\": 27.76,\n",
    "    \"dividend_yield\": 1.1479592,\n",
    "    \"earnings_share\": 1.7,\n",
    "    \"52_week_low\": 68.39,\n",
    "    \"52_week_high\": 48.925,\n",
    "    \"market_cap\": 10783419933,\n",
    "}"
   ]
  },
  {
   "cell_type": "code",
   "execution_count": 4,
   "id": "96599d09-fde8-40d1-b5a9-a939835827e6",
   "metadata": {},
   "outputs": [
    {
     "data": {
      "text/plain": [
       "{'symbol': 'AOS',\n",
       " 'name': 'A.O. Smith Corp',\n",
       " 'sector': 'Industrials',\n",
       " 'price_earnings': 27.76,\n",
       " 'dividend_yield': 1.1479592,\n",
       " 'earnings_share': 1.7,\n",
       " '52_week_low': 68.39,\n",
       " '52_week_high': 48.925,\n",
       " 'market_cap': 10783419933}"
      ]
     },
     "execution_count": 4,
     "metadata": {},
     "output_type": "execute_result"
    }
   ],
   "source": [
    "stock"
   ]
  },
  {
   "cell_type": "code",
   "execution_count": 6,
   "id": "47597018-9cbe-48cd-93db-b5e2eb16c690",
   "metadata": {},
   "outputs": [
    {
     "data": {
      "text/plain": [
       "{'price_probablity': 61.20453709544893}"
      ]
     },
     "execution_count": 6,
     "metadata": {},
     "output_type": "execute_result"
    }
   ],
   "source": [
    "requests.post(url, json=stock).json()"
   ]
  },
  {
   "cell_type": "code",
   "execution_count": null,
   "id": "186552ed-f5c0-4810-93b8-c0b6451ce037",
   "metadata": {},
   "outputs": [],
   "source": []
  }
 ],
 "metadata": {
  "kernelspec": {
   "display_name": "Python 3 (ipykernel)",
   "language": "python",
   "name": "python3"
  },
  "language_info": {
   "codemirror_mode": {
    "name": "ipython",
    "version": 3
   },
   "file_extension": ".py",
   "mimetype": "text/x-python",
   "name": "python",
   "nbconvert_exporter": "python",
   "pygments_lexer": "ipython3",
   "version": "3.10.12"
  }
 },
 "nbformat": 4,
 "nbformat_minor": 5
}
